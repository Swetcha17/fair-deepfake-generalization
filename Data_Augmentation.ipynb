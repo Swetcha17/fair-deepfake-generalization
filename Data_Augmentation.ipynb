{
 "cells": [
  {
   "cell_type": "code",
   "execution_count": 1,
   "id": "fb5d8e76-bec7-4058-a4a1-e73baa9792e7",
   "metadata": {},
   "outputs": [
    {
     "name": "stderr",
     "output_type": "stream",
     "text": [
      "Augmenting ./White/real: 100%|██████████| 500/500 [00:01<00:00, 405.75it/s]\n",
      "Augmenting ./White/fake: 100%|██████████| 500/500 [00:01<00:00, 393.56it/s]\n",
      "Augmenting ./Black/real: 100%|██████████| 100/100 [00:00<00:00, 416.25it/s]\n",
      "Augmenting ./Black/fake: 100%|██████████| 100/100 [00:00<00:00, 404.07it/s]\n",
      "Augmenting ./Indian/real: 100%|██████████| 100/100 [00:00<00:00, 410.44it/s]\n",
      "Augmenting ./Indian/fake: 100%|██████████| 100/100 [00:00<00:00, 406.53it/s]\n",
      "Augmenting ./East_Asian/real: 100%|██████████| 100/100 [00:00<00:00, 421.10it/s]\n",
      "Augmenting ./East_Asian/fake: 100%|██████████| 100/100 [00:00<00:00, 334.98it/s]\n",
      "Augmenting ./Southeast_Asian/real: 100%|██████████| 100/100 [00:00<00:00, 319.79it/s]\n",
      "Augmenting ./Southeast_Asian/fake: 100%|██████████| 100/100 [00:00<00:00, 403.73it/s]\n",
      "Augmenting ./Latino_Hispanic/real: 100%|██████████| 100/100 [00:00<00:00, 361.91it/s]\n",
      "Augmenting ./Latino_Hispanic/fake: 100%|██████████| 100/100 [00:00<00:00, 408.03it/s]\n"
     ]
    }
   ],
   "source": [
    "import os\n",
    "from PIL import Image\n",
    "from torchvision import transforms\n",
    "from tqdm import tqdm\n",
    "\n",
    "# Define augmentation transforms\n",
    "augment = transforms.Compose([\n",
    "    transforms.Resize((224, 224)),\n",
    "    transforms.RandomHorizontalFlip(p=1.0),\n",
    "    transforms.RandomRotation(15),\n",
    "    transforms.ColorJitter(brightness=0.1, contrast=0.1),\n",
    "])\n",
    "\n",
    "def augment_images(src_dir, dst_dir, n_augments=1):\n",
    "    os.makedirs(dst_dir, exist_ok=True)\n",
    "    for fname in tqdm(os.listdir(src_dir), desc=f\"Augmenting {src_dir}\"):\n",
    "        if fname.lower().endswith(\".jpg\"):\n",
    "            img = Image.open(os.path.join(src_dir, fname)).convert(\"RGB\")\n",
    "            for i in range(n_augments):\n",
    "                aug_img = augment(img)\n",
    "                aug_name = fname.replace(\".jpg\", f\"_aug{i}.jpg\")\n",
    "                aug_img.save(os.path.join(dst_dir, aug_name))\n",
    "\n",
    "def run_augmentation_for_race(race, base_path=\".\"):\n",
    "    for cls in ['real', 'fake']:\n",
    "        src = os.path.join(base_path, race, cls)\n",
    "        dst = os.path.join(base_path, f\"{race}_augmented\", cls)\n",
    "\n",
    "        os.makedirs(dst, exist_ok=True)\n",
    "        for fname in os.listdir(src):\n",
    "            if fname.lower().endswith(\".jpg\"):\n",
    "                orig_path = os.path.join(src, fname)\n",
    "                new_path = os.path.join(dst, fname)\n",
    "                if not os.path.exists(new_path):\n",
    "                    Image.open(orig_path).save(new_path)\n",
    "\n",
    "        # Apply augmentation\n",
    "        augment_images(src, dst, n_augments=1)\n",
    "\n",
    "def run_all_races_augmentation(races, base_path=\".\"):\n",
    "    for race in races:\n",
    "        run_augmentation_for_race(race, base_path)\n",
    "\n",
    "if __name__ == \"__main__\":\n",
    "    all_races = [\"White\", \"Black\", \"Indian\", \"East_Asian\", \"Southeast_Asian\", \"Latino_Hispanic\"]\n",
    "    run_all_races_augmentation(all_races)"
   ]
  }
 ],
 "metadata": {
  "kernelspec": {
   "display_name": "Python 3 (ipykernel)",
   "language": "python",
   "name": "python3"
  },
  "language_info": {
   "codemirror_mode": {
    "name": "ipython",
    "version": 3
   },
   "file_extension": ".py",
   "mimetype": "text/x-python",
   "name": "python",
   "nbconvert_exporter": "python",
   "pygments_lexer": "ipython3",
   "version": "3.9.7"
  }
 },
 "nbformat": 4,
 "nbformat_minor": 5
}
